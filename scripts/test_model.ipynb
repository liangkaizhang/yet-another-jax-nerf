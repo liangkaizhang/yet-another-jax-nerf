{
 "cells": [
  {
   "cell_type": "code",
   "execution_count": 1,
   "id": "65c95d64",
   "metadata": {},
   "outputs": [],
   "source": [
    "import os\n",
    "os.environ[\"CUDA_VISIBLE_DEVICES\"]=\"0\"  # specify which GPU(s) to be used\n",
    "\n",
    "import sys\n",
    "import attr\n",
    "# insert at 1, 0 is the script path (or '' in REPL)\n",
    "sys.path.insert(1, '../src')\n",
    "\n",
    "from dataset import DatasetConfig, DatasetBuilder\n",
    "from geometry import Rays\n",
    "import os\n",
    "from functools import partial\n",
    "import numpy as np\n",
    "import matplotlib.pyplot as plt\n",
    "import tensorflow as tf\n",
    "\n",
    "from collections import defaultdict\n",
    "from typing import Callable, Dict, List, Tuple\n",
    "\n",
    "from nerf import NerfConfig, Nerf\n",
    "import nerf_utils\n",
    "import jax.numpy as jnp\n",
    "\n",
    "import jax\n",
    "from jax import jit, random\n",
    "from trainer import Trainer, TrainerConfig\n",
    "\n",
    "%matplotlib inline\n",
    "\n",
    "plt.rcParams[\"figure.figsize\"] = (12, 12)"
   ]
  },
  {
   "cell_type": "code",
   "execution_count": 2,
   "id": "868d780f",
   "metadata": {},
   "outputs": [],
   "source": [
    "ds_config =  DatasetConfig(model_dir='../dataset/pinecone/sparse/0/',\n",
    "                           images_dir='../dataset/pinecone/images/',\n",
    "                           batch_from_single_image=True,\n",
    "                           batch_size=8)\n",
    "trainer_config = TrainerConfig(dataset_config=ds_config)\n",
    "trainer = Trainer(trainer_config)\n",
    "train_iter, val_iter = trainer.create_dataset(to_device=False)"
   ]
  },
  {
   "cell_type": "code",
   "execution_count": 3,
   "id": "60278938",
   "metadata": {},
   "outputs": [],
   "source": [
    "rays = next(train_iter)"
   ]
  },
  {
   "cell_type": "code",
   "execution_count": 4,
   "id": "3fe29438",
   "metadata": {},
   "outputs": [],
   "source": [
    "state = trainer.create_train_state(rays)"
   ]
  },
  {
   "cell_type": "code",
   "execution_count": 10,
   "id": "b21dc3f0",
   "metadata": {},
   "outputs": [],
   "source": [
    "coarse_rgb, fine_rgb = state.apply_fn(state.params, trainer._rng, jax.tree_map(lambda x: x[0], rays))"
   ]
  },
  {
   "cell_type": "code",
   "execution_count": 11,
   "id": "64b5b543",
   "metadata": {},
   "outputs": [
    {
     "data": {
      "text/plain": [
       "DeviceArray([[0.        , 0.        , 0.        ],\n",
       "             [0.        , 0.        , 0.        ],\n",
       "             [0.32859775, 0.34741738, 0.30696827],\n",
       "             [0.        , 0.        , 0.        ],\n",
       "             [0.        , 0.        , 0.        ],\n",
       "             [0.        , 0.        , 0.        ],\n",
       "             [0.23736162, 0.25658837, 0.17968707],\n",
       "             [0.35462773, 0.331079  , 0.24922337]], dtype=float32)"
      ]
     },
     "execution_count": 11,
     "metadata": {},
     "output_type": "execute_result"
    }
   ],
   "source": [
    "coarse_rgb"
   ]
  },
  {
   "cell_type": "code",
   "execution_count": null,
   "id": "8ac424a0",
   "metadata": {},
   "outputs": [],
   "source": [
    "@attr.s(frozen=True, auto_attribs=True)\n",
    "class NerfBuilder:\n",
    "    config: NerfConfig\n",
    "\n",
    "    def build(self, rng: jnp.ndarray, rays: Rays):\n",
    "        model = Nerf(self.config)\n",
    "        key1, key2, rng = random.split(rng, num=3)\n",
    "        init_params = model.init(\n",
    "            key1, rng=key2, rays=rays)\n",
    "        return model, init_params\n",
    "\n",
    "rng = random.PRNGKey(0)\n",
    "rays_local = jax.tree_map(lambda x:x[0], rays)\n",
    "model, init_params = NerfBuilder(NerfConfig()).build(rng, rays_local)\n",
    "coarse_rgb, fine_rgb = model.apply(init_params, rng, rays_local)"
   ]
  },
  {
   "cell_type": "code",
   "execution_count": null,
   "id": "ad6963b0",
   "metadata": {},
   "outputs": [],
   "source": []
  },
  {
   "cell_type": "code",
   "execution_count": null,
   "id": "912b474a",
   "metadata": {},
   "outputs": [],
   "source": [
    "coarse_rgb"
   ]
  },
  {
   "cell_type": "code",
   "execution_count": 12,
   "id": "6ab2ffe2",
   "metadata": {},
   "outputs": [],
   "source": [
    "EPS = 1e-10\n",
    "\n",
    "def volumetric_rendering(points_rgb, points_sigma, points_z, dirs, white_bkgd=True):\n",
    "    dists = points_z[..., 1:] - points_z[..., :-1]\n",
    "    dists = jnp.concatenate([dists, 1e10 * jnp.ones_like(dists[..., :1])], axis=-1)\n",
    "    dists = dists * jnp.linalg.norm(dirs, axis=-1, keepdims=True)\n",
    "\n",
    "    dists_sigma = points_sigma[..., 0] * dists\n",
    "    alpha = 1.0 - jnp.exp(-dists_sigma)\n",
    "\n",
    "    transmit = jnp.exp(-jnp.cumsum(dists_sigma[:, :-1], axis=-1))\n",
    "    transmit = jnp.concatenate([jnp.ones_like(transmit[:, :1]), transmit], axis=-1)\n",
    "    weights = alpha * transmit\n",
    "    \n",
    "    rgb = jnp.sum(weights[..., jnp.newaxis] * points_rgb, axis=1)\n",
    "    depth = jnp.sum(weights * points_z, axis=1, keepdims=True)\n",
    "    \n",
    "    acc = jnp.sum(weights, axis=-1, keepdims=True)\n",
    "    disp = acc / (depth + EPS)\n",
    "    if white_bkgd:\n",
    "        rgb = rgb + (1. - acc)\n",
    "    return rgb, disp, acc, weights\n",
    "\n",
    "points_rgb = random.uniform(rng, (64, 100, 3)) / 1000\n",
    "points_sigma = random.uniform(rng, (64, 100, 1)) / 1000\n",
    "rgb, disp, acc, weights = nerf_utils.volumetric_rendering(points_rgb, points_sigma, points_z, rays.directions)"
   ]
  },
  {
   "cell_type": "code",
   "execution_count": 13,
   "id": "fdadd8a7",
   "metadata": {},
   "outputs": [
    {
     "data": {
      "text/plain": [
       "DeviceArray([[0.00015901, 0.00037874, 0.0004901 ],\n",
       "             [0.00029306, 0.00049331, 0.00040989],\n",
       "             [0.00074104, 0.00071467, 0.00047685],\n",
       "             [0.00046635, 0.00074081, 0.00072935],\n",
       "             [0.00036115, 0.00029611, 0.00028599],\n",
       "             [0.00081129, 0.00040781, 0.00028003],\n",
       "             [0.00068469, 0.00026013, 0.00054004],\n",
       "             [0.00021147, 0.00046594, 0.00066487],\n",
       "             [0.00074065, 0.00069683, 0.00037903],\n",
       "             [0.00063101, 0.00024434, 0.00079861],\n",
       "             [0.00057646, 0.00052661, 0.0005742 ],\n",
       "             [0.00066256, 0.00073601, 0.0006188 ],\n",
       "             [0.00056572, 0.00045589, 0.00035953],\n",
       "             [0.00053161, 0.00033082, 0.0006    ],\n",
       "             [0.00023862, 0.00050335, 0.00044   ],\n",
       "             [0.00019101, 0.00024335, 0.00034161],\n",
       "             [0.00034782, 0.00065425, 0.00066272],\n",
       "             [0.00040164, 0.0003118 , 0.00036887],\n",
       "             [0.00080923, 0.00032702, 0.00032641],\n",
       "             [0.00055754, 0.00042865, 0.00039845],\n",
       "             [0.00075917, 0.00057014, 0.0008172 ],\n",
       "             [0.00063791, 0.00078316, 0.00052112],\n",
       "             [0.00043213, 0.00064146, 0.00044049],\n",
       "             [0.00039323, 0.00026775, 0.00020711],\n",
       "             [0.00077057, 0.00082179, 0.00033541],\n",
       "             [0.00037375, 0.00047829, 0.00078032],\n",
       "             [0.0003068 , 0.00024334, 0.00027746],\n",
       "             [0.00045672, 0.00035663, 0.0005209 ],\n",
       "             [0.00020396, 0.00043178, 0.00026182],\n",
       "             [0.00059381, 0.000386  , 0.00081304],\n",
       "             [0.00065017, 0.0003166 , 0.0006766 ],\n",
       "             [0.00070384, 0.00042358, 0.00051727],\n",
       "             [0.0002703 , 0.00058093, 0.00050466],\n",
       "             [0.00059517, 0.00038997, 0.00055792],\n",
       "             [0.00043615, 0.00081112, 0.00054027],\n",
       "             [0.00054185, 0.00058687, 0.00045136],\n",
       "             [0.0004929 , 0.00040403, 0.00043959],\n",
       "             [0.00045645, 0.0004014 , 0.00040118],\n",
       "             [0.00035083, 0.00067995, 0.00045084],\n",
       "             [0.00074303, 0.00046079, 0.00051596],\n",
       "             [0.0007263 , 0.0002462 , 0.00036115],\n",
       "             [0.00044911, 0.00079433, 0.00059536],\n",
       "             [0.00035792, 0.00029262, 0.00048109],\n",
       "             [0.00045916, 0.00049496, 0.00064516],\n",
       "             [0.00075328, 0.00034114, 0.00061286],\n",
       "             [0.00030411, 0.00039515, 0.00070617],\n",
       "             [0.00020972, 0.00042046, 0.00063291],\n",
       "             [0.00045333, 0.00063085, 0.00042484],\n",
       "             [0.00037744, 0.00071657, 0.00061973],\n",
       "             [0.00041082, 0.00065203, 0.00028185],\n",
       "             [0.00062834, 0.0003035 , 0.000612  ],\n",
       "             [0.0003042 , 0.00078127, 0.00038695],\n",
       "             [0.00055225, 0.00052572, 0.00041427],\n",
       "             [0.00075159, 0.0005718 , 0.0005345 ],\n",
       "             [0.0007083 , 0.00055531, 0.00026308],\n",
       "             [0.00065189, 0.00061948, 0.00049207],\n",
       "             [0.0005066 , 0.00044067, 0.00042256],\n",
       "             [0.00027284, 0.00022901, 0.0005737 ],\n",
       "             [0.00044823, 0.00069747, 0.00073099],\n",
       "             [0.00042895, 0.00073419, 0.0002726 ],\n",
       "             [0.00075381, 0.0006991 , 0.0005103 ],\n",
       "             [0.00016802, 0.00030957, 0.00071294],\n",
       "             [0.00023029, 0.00037729, 0.00053995],\n",
       "             [0.00071114, 0.0007387 , 0.00029676]], dtype=float32)"
      ]
     },
     "execution_count": 13,
     "metadata": {},
     "output_type": "execute_result"
    }
   ],
   "source": [
    "rgb"
   ]
  },
  {
   "cell_type": "code",
   "execution_count": 7,
   "id": "114fab2f",
   "metadata": {},
   "outputs": [
    {
     "data": {
      "text/plain": [
       "(64, 100, 63)"
      ]
     },
     "execution_count": 7,
     "metadata": {},
     "output_type": "execute_result"
    }
   ],
   "source": [
    "import functools\n",
    "\n",
    "from flax import jax_utils\n",
    "\n",
    "num_rays = rays.origins.shape[0]\n",
    "num_bins = 100\n",
    "bins = jnp.linspace(0.001, 1000, num_bins)\n",
    "bins = jnp.broadcast_to(bins, (num_rays, num_bins))\n",
    "weights = jnp.ones_like(bins)\n",
    "# sampler_fn = jit(functools.partial(nerf_utils.sample_along_rays,\n",
    "#                                    100,\n",
    "#                                    randomized=True))\n",
    "sampler_fn = functools.partial(nerf_utils.sample_along_rays,\n",
    "                               num_samples=100,\n",
    "                               randomized=True)\n",
    "points, points_z = sampler_fn(rng, rays, bins, weights)\n",
    "encode = nerf_utils.positional_encoding(points, 0, 10)\n",
    "\n",
    "encode.shape"
   ]
  },
  {
   "cell_type": "code",
   "execution_count": 8,
   "id": "33c2aaeb",
   "metadata": {},
   "outputs": [
    {
     "data": {
      "text/plain": [
       "(64, 100)"
      ]
     },
     "execution_count": 8,
     "metadata": {},
     "output_type": "execute_result"
    }
   ],
   "source": [
    "points_z.shape"
   ]
  },
  {
   "cell_type": "code",
   "execution_count": 6,
   "id": "d2a456db",
   "metadata": {},
   "outputs": [
    {
     "data": {
      "text/plain": [
       "(64, 1, 63)"
      ]
     },
     "execution_count": 6,
     "metadata": {},
     "output_type": "execute_result"
    }
   ],
   "source": [
    "encode = nerf_utils.positional_encoding(rays.directions[:, jnp.newaxis, :], 0, 10)\n",
    "\n",
    "encode.shape"
   ]
  },
  {
   "cell_type": "code",
   "execution_count": 54,
   "id": "1b02c213",
   "metadata": {},
   "outputs": [
    {
     "data": {
      "text/plain": [
       "(64, 3)"
      ]
     },
     "execution_count": 54,
     "metadata": {},
     "output_type": "execute_result"
    }
   ],
   "source": [
    "rays.directions.shape"
   ]
  }
 ],
 "metadata": {
  "kernelspec": {
   "display_name": "Python 3",
   "language": "python",
   "name": "python3"
  },
  "language_info": {
   "codemirror_mode": {
    "name": "ipython",
    "version": 3
   },
   "file_extension": ".py",
   "mimetype": "text/x-python",
   "name": "python",
   "nbconvert_exporter": "python",
   "pygments_lexer": "ipython3",
   "version": "3.6.9"
  }
 },
 "nbformat": 4,
 "nbformat_minor": 5
}
