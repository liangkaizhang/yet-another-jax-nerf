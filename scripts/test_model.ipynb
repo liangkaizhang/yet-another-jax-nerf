{
 "cells": [
  {
   "cell_type": "code",
   "execution_count": 2,
   "id": "65c95d64",
   "metadata": {},
   "outputs": [],
   "source": [
    "import sys\n",
    "# insert at 1, 0 is the script path (or '' in REPL)\n",
    "sys.path.insert(1, '../src')\n",
    "\n",
    "from dataset import DatasetConfig, DatasetBuilder\n",
    "import os\n",
    "from functools import partial\n",
    "import numpy as np\n",
    "import matplotlib.pyplot as plt\n",
    "import tensorflow as tf\n",
    "from collections import defaultdict\n",
    "from typing import Callable, Dict, List, Tuple\n",
    "%matplotlib inline"
   ]
  },
  {
   "cell_type": "code",
   "execution_count": 3,
   "id": "868d780f",
   "metadata": {},
   "outputs": [],
   "source": [
    "ds_config =  DatasetConfig(model_dir='../dataset/pinecone/sparse/0/',\n",
    "                           images_dir='../dataset/pinecone/images/',\n",
    "                           batch_from_single_image=True,\n",
    "                           batch_size=8)\n",
    "dataset_builder = DatasetBuilder(ds_config)\n",
    "train_ds = dataset_builder.build_train_dataset()"
   ]
  },
  {
   "cell_type": "code",
   "execution_count": 4,
   "id": "e7a99ecb",
   "metadata": {},
   "outputs": [],
   "source": [
    "from flax import linen as nn\n",
    "import jax.numpy as jnp"
   ]
  },
  {
   "cell_type": "code",
   "execution_count": 9,
   "id": "a9a3d853",
   "metadata": {},
   "outputs": [],
   "source": [
    "class Model(nn.Module):\n",
    "    \"\"\"A simple CNN model.\"\"\"\n",
    "\n",
    "    @nn.compact\n",
    "    def __call__(self, rays):\n",
    "        return x\n",
    "    "
   ]
  }
 ],
 "metadata": {
  "kernelspec": {
   "display_name": "Python 3",
   "language": "python",
   "name": "python3"
  },
  "language_info": {
   "codemirror_mode": {
    "name": "ipython",
    "version": 3
   },
   "file_extension": ".py",
   "mimetype": "text/x-python",
   "name": "python",
   "nbconvert_exporter": "python",
   "pygments_lexer": "ipython3",
   "version": "3.6.9"
  }
 },
 "nbformat": 4,
 "nbformat_minor": 5
}
