{
 "cells": [
  {
   "cell_type": "code",
   "execution_count": 1,
   "id": "65c95d64",
   "metadata": {},
   "outputs": [],
   "source": [
    "import sys\n",
    "import attr\n",
    "# insert at 1, 0 is the script path (or '' in REPL)\n",
    "sys.path.insert(1, '../src')\n",
    "\n",
    "from dataset import DatasetConfig, DatasetBuilder\n",
    "from geometry import Rays\n",
    "import os\n",
    "from functools import partial\n",
    "import numpy as np\n",
    "import matplotlib.pyplot as plt\n",
    "import tensorflow as tf\n",
    "\n",
    "from collections import defaultdict\n",
    "from typing import Callable, Dict, List, Tuple\n",
    "\n",
    "from nerf import NerfConfig, Nerf\n",
    "import nerf_utils\n",
    "import jax.numpy as jnp\n",
    "\n",
    "import jax\n",
    "from jax import jit, random\n",
    "\n",
    "%matplotlib inline\n",
    "\n",
    "plt.rcParams[\"figure.figsize\"] = (12, 12)"
   ]
  },
  {
   "cell_type": "code",
   "execution_count": 2,
   "id": "868d780f",
   "metadata": {},
   "outputs": [],
   "source": [
    "ds_config =  DatasetConfig(model_dir='../dataset/pinecone/sparse/0/',\n",
    "                           images_dir='../dataset/pinecone/images/',\n",
    "                           batch_from_single_image=True,\n",
    "                           batch_size=64)\n",
    "dataset_builder = DatasetBuilder(ds_config)\n",
    "train_ds = dataset_builder.build_train_dataset()"
   ]
  },
  {
   "cell_type": "code",
   "execution_count": 10,
   "id": "3ac5987d",
   "metadata": {},
   "outputs": [],
   "source": [
    "data = list(train_ds.take(1).as_numpy_iterator())[0]"
   ]
  },
  {
   "cell_type": "code",
   "execution_count": 11,
   "id": "01ab07ef",
   "metadata": {},
   "outputs": [],
   "source": [
    "def prepare_inputs(data):\n",
    "    return Rays(*data)\n",
    "\n",
    "@attr.s(frozen=True, auto_attribs=True)\n",
    "class NerfBuilder:\n",
    "    config: NerfConfig\n",
    "\n",
    "    def build(self, rng: jnp.ndarray, rays: Rays):\n",
    "        model = Nerf(self.config)\n",
    "        key1, key2, rng = random.split(rng, num=3)\n",
    "        init_params = model.init(\n",
    "            key1, rng=key2, rays=rays)\n",
    "        return model, init_params\n",
    "\n",
    "rng = random.PRNGKey(0)\n",
    "rays = prepare_inputs(data)\n",
    "model, init_params = NerfBuilder(NerfConfig()).build(rng, rays)\n",
    "coarse_rgb, fine_rgb = model.apply(init_params, rng, rays)"
   ]
  },
  {
   "cell_type": "code",
   "execution_count": 9,
   "id": "be09c60d",
   "metadata": {},
   "outputs": [
    {
     "data": {
      "text/plain": [
       "DeviceArray([[0.40388322, 0.4156903 , 0.33409858],\n",
       "             [0.        , 0.        , 0.        ],\n",
       "             [0.        , 0.        , 0.        ],\n",
       "             [0.        , 0.        , 0.        ],\n",
       "             [0.07171033, 0.08403395, 0.06920688],\n",
       "             [0.        , 0.        , 0.        ],\n",
       "             [0.        , 0.        , 0.        ],\n",
       "             [0.        , 0.        , 0.        ],\n",
       "             [0.        , 0.        , 0.        ],\n",
       "             [0.        , 0.        , 0.        ],\n",
       "             [0.2193469 , 0.23089232, 0.19843762],\n",
       "             [0.        , 0.        , 0.        ],\n",
       "             [0.        , 0.        , 0.        ],\n",
       "             [0.2261976 , 0.21365152, 0.15540776],\n",
       "             [0.        , 0.        , 0.        ],\n",
       "             [0.5547238 , 0.6250224 , 0.52054083],\n",
       "             [0.        , 0.        , 0.        ],\n",
       "             [0.        , 0.        , 0.        ],\n",
       "             [0.        , 0.        , 0.        ],\n",
       "             [0.        , 0.        , 0.        ],\n",
       "             [0.        , 0.        , 0.        ],\n",
       "             [0.        , 0.        , 0.        ],\n",
       "             [0.        , 0.        , 0.        ],\n",
       "             [0.45154023, 0.3719771 , 0.33790633],\n",
       "             [0.        , 0.        , 0.        ],\n",
       "             [0.        , 0.        , 0.        ],\n",
       "             [0.        , 0.        , 0.        ],\n",
       "             [0.        , 0.        , 0.        ],\n",
       "             [0.        , 0.        , 0.        ],\n",
       "             [0.        , 0.        , 0.        ],\n",
       "             [0.        , 0.        , 0.        ],\n",
       "             [0.        , 0.        , 0.        ],\n",
       "             [0.        , 0.        , 0.        ],\n",
       "             [0.        , 0.        , 0.        ],\n",
       "             [0.        , 0.        , 0.        ],\n",
       "             [0.        , 0.        , 0.        ],\n",
       "             [0.        , 0.        , 0.        ],\n",
       "             [0.        , 0.        , 0.        ],\n",
       "             [0.        , 0.        , 0.        ],\n",
       "             [0.        , 0.        , 0.        ],\n",
       "             [0.        , 0.        , 0.        ],\n",
       "             [0.12889966, 0.13901909, 0.08405975],\n",
       "             [0.        , 0.        , 0.        ],\n",
       "             [0.        , 0.        , 0.        ],\n",
       "             [0.        , 0.        , 0.        ],\n",
       "             [0.        , 0.        , 0.        ],\n",
       "             [0.        , 0.        , 0.        ],\n",
       "             [0.        , 0.        , 0.        ],\n",
       "             [0.        , 0.        , 0.        ],\n",
       "             [0.        , 0.        , 0.        ],\n",
       "             [0.32449132, 0.29712614, 0.27887833],\n",
       "             [0.        , 0.        , 0.        ],\n",
       "             [0.59757024, 0.5903025 , 0.39919743],\n",
       "             [0.        , 0.        , 0.        ],\n",
       "             [0.36389324, 0.4698157 , 0.34363118],\n",
       "             [0.25043446, 0.26951128, 0.21829835],\n",
       "             [0.        , 0.        , 0.        ],\n",
       "             [0.        , 0.        , 0.        ],\n",
       "             [0.        , 0.        , 0.        ],\n",
       "             [0.        , 0.        , 0.        ],\n",
       "             [0.09259903, 0.09379   , 0.08164837],\n",
       "             [0.        , 0.        , 0.        ],\n",
       "             [0.0352173 , 0.03847751, 0.03084159],\n",
       "             [0.        , 0.        , 0.        ]], dtype=float32)"
      ]
     },
     "execution_count": 9,
     "metadata": {},
     "output_type": "execute_result"
    }
   ],
   "source": [
    "coarse_rgb"
   ]
  },
  {
   "cell_type": "code",
   "execution_count": 27,
   "id": "a0fb01c9",
   "metadata": {},
   "outputs": [],
   "source": [
    "EPS = 1e-10\n",
    "\n",
    "def volumetric_rendering(points_rgb, points_sigma, points_z, dirs, white_bkgd=True):\n",
    "    dists = points_z[..., 1:] - points_z[..., :-1]\n",
    "    dists = jnp.concatenate([dists, 1e10 * jnp.ones_like(dists[..., :1])], axis=-1)\n",
    "    dists = dists * jnp.linalg.norm(dirs, axis=-1, keepdims=True)\n",
    "\n",
    "    dists_sigma = points_sigma[..., 0] * dists\n",
    "    alpha = 1.0 - jnp.exp(-dists_sigma)\n",
    "\n",
    "    transmit = jnp.exp(-jnp.cumsum(dists_sigma[:, :-1], axis=-1))\n",
    "    transmit = jnp.concatenate([jnp.ones_like(transmit[:, :1]), transmit], axis=-1)\n",
    "    weights = alpha * transmit\n",
    "    \n",
    "    rgb = jnp.sum(weights[..., jnp.newaxis] * points_rgb, axis=1)\n",
    "    depth = jnp.sum(weights * points_z, axis=1, keepdims=True)\n",
    "    \n",
    "    acc = jnp.sum(weights, axis=-1, keepdims=True)\n",
    "    disp = acc / (depth + EPS)\n",
    "    if white_bkgd:\n",
    "        rgb = rgb + (1. - acc)\n",
    "    return rgb, disp, acc, weights\n",
    "\n",
    "points_rgb = -random.uniform(rng, (64, 100, 3)) / 1000\n",
    "points_sigma = -random.uniform(rng, (64, 100, 1)) / 1000\n",
    "rgb, disp, acc, weights = nerf_utils.volumetric_rendering(points_rgb, points_sigma, points_z, rays.directions)"
   ]
  },
  {
   "cell_type": "code",
   "execution_count": 28,
   "id": "f4795354",
   "metadata": {},
   "outputs": [
    {
     "data": {
      "text/plain": [
       "DeviceArray([[inf, inf, inf],\n",
       "             [inf, inf, inf],\n",
       "             [inf, inf, inf],\n",
       "             [inf, inf, inf],\n",
       "             [inf, inf, inf],\n",
       "             [inf, inf, inf],\n",
       "             [inf, inf, inf],\n",
       "             [inf, inf, inf],\n",
       "             [inf, inf, inf],\n",
       "             [inf, inf, inf],\n",
       "             [inf, inf, inf],\n",
       "             [inf, inf, inf],\n",
       "             [inf, inf, inf],\n",
       "             [inf, inf, inf],\n",
       "             [inf, inf, inf],\n",
       "             [inf, inf, inf],\n",
       "             [inf, inf, inf],\n",
       "             [inf, inf, inf],\n",
       "             [inf, inf, inf],\n",
       "             [inf, inf, inf],\n",
       "             [inf, inf, inf],\n",
       "             [inf, inf, inf],\n",
       "             [inf, inf, inf],\n",
       "             [inf, inf, inf],\n",
       "             [inf, inf, inf],\n",
       "             [inf, inf, inf],\n",
       "             [inf, inf, inf],\n",
       "             [inf, inf, inf],\n",
       "             [inf, inf, inf],\n",
       "             [inf, inf, inf],\n",
       "             [inf, inf, inf],\n",
       "             [inf, inf, inf],\n",
       "             [inf, inf, inf],\n",
       "             [inf, inf, inf],\n",
       "             [inf, inf, inf],\n",
       "             [inf, inf, inf],\n",
       "             [inf, inf, inf],\n",
       "             [inf, inf, inf],\n",
       "             [inf, inf, inf],\n",
       "             [inf, inf, inf],\n",
       "             [inf, inf, inf],\n",
       "             [inf, inf, inf],\n",
       "             [inf, inf, inf],\n",
       "             [inf, inf, inf],\n",
       "             [inf, inf, inf],\n",
       "             [inf, inf, inf],\n",
       "             [inf, inf, inf],\n",
       "             [inf, inf, inf],\n",
       "             [inf, inf, inf],\n",
       "             [inf, inf, inf],\n",
       "             [inf, inf, inf],\n",
       "             [inf, inf, inf],\n",
       "             [inf, inf, inf],\n",
       "             [inf, inf, inf],\n",
       "             [inf, inf, inf],\n",
       "             [inf, inf, inf],\n",
       "             [inf, inf, inf],\n",
       "             [inf, inf, inf],\n",
       "             [inf, inf, inf],\n",
       "             [inf, inf, inf],\n",
       "             [inf, inf, inf],\n",
       "             [inf, inf, inf],\n",
       "             [inf, inf, inf],\n",
       "             [inf, inf, inf]], dtype=float32)"
      ]
     },
     "execution_count": 28,
     "metadata": {},
     "output_type": "execute_result"
    }
   ],
   "source": [
    "rgb"
   ]
  },
  {
   "cell_type": "code",
   "execution_count": 7,
   "id": "7da769d3",
   "metadata": {},
   "outputs": [
    {
     "data": {
      "text/plain": [
       "(64, 100, 63)"
      ]
     },
     "execution_count": 7,
     "metadata": {},
     "output_type": "execute_result"
    }
   ],
   "source": [
    "import functools\n",
    "\n",
    "from flax import jax_utils\n",
    "\n",
    "num_rays = rays.origins.shape[0]\n",
    "num_bins = 100\n",
    "bins = jnp.linspace(0.001, 1000, num_bins)\n",
    "bins = jnp.broadcast_to(bins, (num_rays, num_bins))\n",
    "weights = jnp.ones_like(bins)\n",
    "# sampler_fn = jit(functools.partial(nerf_utils.sample_along_rays,\n",
    "#                                    100,\n",
    "#                                    randomized=True))\n",
    "sampler_fn = functools.partial(nerf_utils.sample_along_rays,\n",
    "                               num_samples=100,\n",
    "                               randomized=True)\n",
    "points, points_z = sampler_fn(rng, rays, bins, weights)\n",
    "encode = nerf_utils.positional_encoding(points, 0, 10)\n",
    "\n",
    "encode.shape"
   ]
  },
  {
   "cell_type": "code",
   "execution_count": 8,
   "id": "70c82355",
   "metadata": {},
   "outputs": [
    {
     "data": {
      "text/plain": [
       "(64, 100)"
      ]
     },
     "execution_count": 8,
     "metadata": {},
     "output_type": "execute_result"
    }
   ],
   "source": [
    "points_z.shape"
   ]
  },
  {
   "cell_type": "code",
   "execution_count": 6,
   "id": "4c640c22",
   "metadata": {},
   "outputs": [
    {
     "data": {
      "text/plain": [
       "(64, 1, 63)"
      ]
     },
     "execution_count": 6,
     "metadata": {},
     "output_type": "execute_result"
    }
   ],
   "source": [
    "encode = nerf_utils.positional_encoding(rays.directions[:, jnp.newaxis, :], 0, 10)\n",
    "\n",
    "encode.shape"
   ]
  },
  {
   "cell_type": "code",
   "execution_count": 54,
   "id": "8dc398b0",
   "metadata": {},
   "outputs": [
    {
     "data": {
      "text/plain": [
       "(64, 3)"
      ]
     },
     "execution_count": 54,
     "metadata": {},
     "output_type": "execute_result"
    }
   ],
   "source": [
    "rays.directions.shape"
   ]
  }
 ],
 "metadata": {
  "kernelspec": {
   "display_name": "Python 3",
   "language": "python",
   "name": "python3"
  },
  "language_info": {
   "codemirror_mode": {
    "name": "ipython",
    "version": 3
   },
   "file_extension": ".py",
   "mimetype": "text/x-python",
   "name": "python",
   "nbconvert_exporter": "python",
   "pygments_lexer": "ipython3",
   "version": "3.6.9"
  }
 },
 "nbformat": 4,
 "nbformat_minor": 5
}
