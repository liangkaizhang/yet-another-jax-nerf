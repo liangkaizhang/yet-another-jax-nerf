{
 "cells": [
  {
   "cell_type": "code",
   "execution_count": 1,
   "id": "981a4cda",
   "metadata": {},
   "outputs": [],
   "source": [
    "import optax"
   ]
  },
  {
   "cell_type": "code",
   "execution_count": 2,
   "id": "df2560c9",
   "metadata": {},
   "outputs": [],
   "source": [
    "init_lr = 5e-4\n",
    "max_steps = 1000\n",
    "exponential_decay_scheduler = optax.exponential_decay(\n",
    "    init_value=init_lr,\n",
    "    transition_steps=max_steps,\n",
    "    decay_rate=0.1)\n",
    "tx = optax.adam(learning_rate=exponential_decay_scheduler)"
   ]
  },
  {
   "cell_type": "code",
   "execution_count": 4,
   "id": "452a0297",
   "metadata": {},
   "outputs": [
    {
     "data": {
      "text/plain": [
       "['__add__',\n",
       " '__annotations__',\n",
       " '__class__',\n",
       " '__contains__',\n",
       " '__delattr__',\n",
       " '__dir__',\n",
       " '__doc__',\n",
       " '__eq__',\n",
       " '__format__',\n",
       " '__ge__',\n",
       " '__getattribute__',\n",
       " '__getitem__',\n",
       " '__getnewargs__',\n",
       " '__gt__',\n",
       " '__hash__',\n",
       " '__init__',\n",
       " '__init_subclass__',\n",
       " '__iter__',\n",
       " '__le__',\n",
       " '__len__',\n",
       " '__lt__',\n",
       " '__module__',\n",
       " '__mul__',\n",
       " '__ne__',\n",
       " '__new__',\n",
       " '__reduce__',\n",
       " '__reduce_ex__',\n",
       " '__repr__',\n",
       " '__rmul__',\n",
       " '__setattr__',\n",
       " '__sizeof__',\n",
       " '__slots__',\n",
       " '__str__',\n",
       " '__subclasshook__',\n",
       " '_asdict',\n",
       " '_field_defaults',\n",
       " '_field_types',\n",
       " '_fields',\n",
       " '_make',\n",
       " '_replace',\n",
       " '_source',\n",
       " 'count',\n",
       " 'index',\n",
       " 'init',\n",
       " 'update']"
      ]
     },
     "execution_count": 4,
     "metadata": {},
     "output_type": "execute_result"
    }
   ],
   "source": [
    "dir(tx)"
   ]
  }
 ],
 "metadata": {
  "kernelspec": {
   "display_name": "Python 3",
   "language": "python",
   "name": "python3"
  },
  "language_info": {
   "codemirror_mode": {
    "name": "ipython",
    "version": 3
   },
   "file_extension": ".py",
   "mimetype": "text/x-python",
   "name": "python",
   "nbconvert_exporter": "python",
   "pygments_lexer": "ipython3",
   "version": "3.6.9"
  }
 },
 "nbformat": 4,
 "nbformat_minor": 5
}
