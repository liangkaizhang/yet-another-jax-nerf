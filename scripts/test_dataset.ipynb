{
 "cells": [
  {
   "cell_type": "code",
   "execution_count": 1,
   "id": "772f97bb",
   "metadata": {},
   "outputs": [],
   "source": [
    "import sys\n",
    "# insert at 1, 0 is the script path (or '' in REPL)\n",
    "sys.path.insert(1, '../src')\n",
    "\n",
    "from dataset import DatasetConfig, DatasetBuilder\n",
    "import os\n",
    "from functools import partial\n",
    "import numpy as np\n",
    "import matplotlib.pyplot as plt\n",
    "import tensorflow as tf\n",
    "from collections import defaultdict, namedtuple\n",
    "from typing import Callable, Dict, List, Tuple\n",
    "%matplotlib inline"
   ]
  },
  {
   "cell_type": "code",
   "execution_count": 2,
   "id": "9c4805cf",
   "metadata": {},
   "outputs": [],
   "source": [
    "ds_config =  DatasetConfig(model_dir='../dataset/pinecone/sparse/0/',\n",
    "                           images_dir='../dataset/pinecone/images/',\n",
    "                           batch_from_single_image=True,\n",
    "                           batch_size=8)"
   ]
  },
  {
   "cell_type": "code",
   "execution_count": 3,
   "id": "9f53c751",
   "metadata": {},
   "outputs": [],
   "source": [
    "dataset_builder = DatasetBuilder(ds_config)\n",
    "train_ds = dataset_builder.build_train_dataset()"
   ]
  },
  {
   "cell_type": "code",
   "execution_count": 4,
   "id": "cd421d49",
   "metadata": {},
   "outputs": [],
   "source": [
    "test_ds = dataset_builder.build_test_dataset()"
   ]
  },
  {
   "cell_type": "code",
   "execution_count": 4,
   "id": "f907e56b",
   "metadata": {},
   "outputs": [],
   "source": [
    "lines = []\n",
    "colors = []\n",
    "\n",
    "def make_line(origin, direction, length=10):\n",
    "    return origin, origin + direction * length\n",
    "\n",
    "for elements in train_ds.take(200).as_numpy_iterator():\n",
    "    origins = elements.origins\n",
    "    directions = elements.directions\n",
    "    pixels = elements.colors\n",
    "    N = origins.shape[0]\n",
    "    for i in range(N):\n",
    "        p0, p1 = make_line(origins[i, ...], directions[i, ...])\n",
    "        lines.append(p0)\n",
    "        lines.append(p1)\n",
    "        colors.append(pixels[i, ...])"
   ]
  },
  {
   "cell_type": "code",
   "execution_count": 8,
   "id": "5a53bf53",
   "metadata": {},
   "outputs": [
    {
     "data": {
      "text/plain": [
       "ColoredRays(origins=array([[-1.3584163,  2.8891244, -0.7654388],\n",
       "       [-1.3584163,  2.8891244, -0.7654388],\n",
       "       [-1.3584163,  2.8891244, -0.7654388],\n",
       "       [-1.3584163,  2.8891244, -0.7654388],\n",
       "       [-1.3584163,  2.8891244, -0.7654388],\n",
       "       [-1.3584163,  2.8891244, -0.7654388],\n",
       "       [-1.3584163,  2.8891244, -0.7654388],\n",
       "       [-1.3584163,  2.8891244, -0.7654388]], dtype=float32), directions=array([[ 0.21775223,  0.36321905,  0.9058935 ],\n",
       "       [ 0.48083252,  0.4632607 ,  0.74443144],\n",
       "       [ 0.67416   ,  0.4551204 ,  0.5816901 ],\n",
       "       [ 0.19054098,  0.37953192,  0.9053382 ],\n",
       "       [ 0.5216486 ,  0.24016047,  0.8186518 ],\n",
       "       [ 0.5905296 , -0.33727977,  0.7331424 ],\n",
       "       [ 0.46349207,  0.44260776,  0.7676338 ],\n",
       "       [ 0.3815262 , -0.24660194,  0.89084554]], dtype=float32), colors=array([[0.69411767, 0.6745098 , 0.69803923],\n",
       "       [0.26666668, 0.30980393, 0.18431373],\n",
       "       [0.30588236, 0.3137255 , 0.3019608 ],\n",
       "       [0.654902  , 0.65882355, 0.6666667 ],\n",
       "       [0.1137255 , 0.09411766, 0.07058824],\n",
       "       [0.7490196 , 0.74509805, 0.7254902 ],\n",
       "       [0.41176474, 0.43137258, 0.40784317],\n",
       "       [0.7294118 , 0.7294118 , 0.7294118 ]], dtype=float32))"
      ]
     },
     "execution_count": 8,
     "metadata": {},
     "output_type": "execute_result"
    }
   ],
   "source": [
    "elements"
   ]
  },
  {
   "cell_type": "code",
   "execution_count": 7,
   "id": "74b7311a",
   "metadata": {},
   "outputs": [],
   "source": [
    "data = np.asarray(lines)\n",
    "np.save('lines.npy', data)\n",
    "\n",
    "colors = np.asarray(colors)\n",
    "np.save('colors.npy', colors)"
   ]
  },
  {
   "cell_type": "code",
   "execution_count": 9,
   "id": "4cee7510",
   "metadata": {},
   "outputs": [
    {
     "data": {
      "text/plain": [
       "Point(x=<tf.Tensor: shape=(), dtype=int32, numpy=9>, y=<tf.Tensor: shape=(), dtype=int32, numpy=9>)"
      ]
     },
     "execution_count": 9,
     "metadata": {},
     "output_type": "execute_result"
    }
   ],
   "source": [
    "element"
   ]
  }
 ],
 "metadata": {
  "kernelspec": {
   "display_name": "Python 3",
   "language": "python",
   "name": "python3"
  },
  "language_info": {
   "codemirror_mode": {
    "name": "ipython",
    "version": 3
   },
   "file_extension": ".py",
   "mimetype": "text/x-python",
   "name": "python",
   "nbconvert_exporter": "python",
   "pygments_lexer": "ipython3",
   "version": "3.6.9"
  }
 },
 "nbformat": 4,
 "nbformat_minor": 5
}
