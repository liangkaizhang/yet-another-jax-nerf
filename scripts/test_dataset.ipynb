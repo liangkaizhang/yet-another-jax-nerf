{
 "cells": [
  {
   "cell_type": "code",
   "execution_count": 1,
   "id": "772f97bb",
   "metadata": {},
   "outputs": [],
   "source": [
    "import sys\n",
    "# insert at 1, 0 is the script path (or '' in REPL)\n",
    "sys.path.insert(1, '../src')\n",
    "\n",
    "from dataset import DatasetConfig, DatasetBuilder\n",
    "import os\n",
    "from functools import partial\n",
    "import numpy as np\n",
    "import matplotlib.pyplot as plt\n",
    "import tensorflow as tf\n",
    "from collections import defaultdict\n",
    "from typing import Callable, Dict, List, Tuple\n",
    "%matplotlib inline"
   ]
  },
  {
   "cell_type": "code",
   "execution_count": 2,
   "id": "9c4805cf",
   "metadata": {},
   "outputs": [],
   "source": [
    "ds_config =  DatasetConfig(model_dir='../dataset/pinecone/sparse/0/',\n",
    "                           images_dir='../dataset/pinecone/images/',\n",
    "                           sample_per_image=20,\n",
    "                           is_training=False,\n",
    "                           batch_size=256)"
   ]
  },
  {
   "cell_type": "code",
   "execution_count": 3,
   "id": "9f53c751",
   "metadata": {},
   "outputs": [],
   "source": [
    "dataset = DatasetBuilder(ds_config)\n",
    "ds = dataset.build_dataset()"
   ]
  },
  {
   "cell_type": "code",
   "execution_count": 9,
   "id": "8f638512",
   "metadata": {},
   "outputs": [
    {
     "data": {
      "text/plain": [
       "TensorShape([188, 3])"
      ]
     },
     "execution_count": 9,
     "metadata": {},
     "output_type": "execute_result"
    }
   ],
   "source": [
    "origins.shape"
   ]
  },
  {
   "cell_type": "code",
   "execution_count": 4,
   "id": "f907e56b",
   "metadata": {},
   "outputs": [
    {
     "name": "stdout",
     "output_type": "stream",
     "text": [
      "Done\n",
      "Done\n",
      "Done\n",
      "Done\n",
      "Done\n",
      "Done\n",
      "Done\n",
      "Done\n"
     ]
    }
   ],
   "source": [
    "lines = []\n",
    "colors = []\n",
    "\n",
    "def make_line(origin, direction, length=10):\n",
    "    return origin, origin + direction * length\n",
    "\n",
    "for elements in ds.take(100).as_numpy_iterator():\n",
    "    origins = elements[\"origins\"]\n",
    "    directions = elements[\"directions\"]\n",
    "    pixels = elements[\"pixels\"]\n",
    "#     N = origins.shape[0]\n",
    "#     for i in range(N):\n",
    "#         p0, p1 = make_line(origins[i, ...], directions[i, ...])\n",
    "#         lines.append(p0)\n",
    "#         lines.append(p1)\n",
    "#         colors.append(pixels[i, ...])\n",
    "    print(\"Done\")"
   ]
  },
  {
   "cell_type": "code",
   "execution_count": 6,
   "id": "8915fce8",
   "metadata": {},
   "outputs": [],
   "source": [
    "data = np.asarray(lines)\n",
    "np.save('lines.npy', data)\n",
    "\n",
    "colors = np.asarray(colors)\n",
    "np.save('colors.npy', colors)"
   ]
  },
  {
   "cell_type": "code",
   "execution_count": 6,
   "id": "b52acb1d",
   "metadata": {},
   "outputs": [
    {
     "data": {
      "text/plain": [
       "(3,)"
      ]
     },
     "execution_count": 6,
     "metadata": {},
     "output_type": "execute_result"
    }
   ],
   "source": [
    "origins.shape"
   ]
  }
 ],
 "metadata": {
  "kernelspec": {
   "display_name": "Python 3",
   "language": "python",
   "name": "python3"
  },
  "language_info": {
   "codemirror_mode": {
    "name": "ipython",
    "version": 3
   },
   "file_extension": ".py",
   "mimetype": "text/x-python",
   "name": "python",
   "nbconvert_exporter": "python",
   "pygments_lexer": "ipython3",
   "version": "3.6.9"
  }
 },
 "nbformat": 4,
 "nbformat_minor": 5
}
