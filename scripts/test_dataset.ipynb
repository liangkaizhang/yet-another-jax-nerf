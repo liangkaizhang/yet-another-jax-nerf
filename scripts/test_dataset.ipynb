{
 "cells": [
  {
   "cell_type": "code",
   "execution_count": 1,
   "id": "4a890f47",
   "metadata": {},
   "outputs": [],
   "source": [
    "import os\n",
    "os.environ[\"CUDA_VISIBLE_DEVICES\"]=\"0\"  # specify which GPU(s) to be used"
   ]
  },
  {
   "cell_type": "code",
   "execution_count": 2,
   "id": "772f97bb",
   "metadata": {},
   "outputs": [],
   "source": [
    "import sys\n",
    "# insert at 1, 0 is the script path (or '' in REPL)\n",
    "sys.path.insert(1, '../src')\n",
    "\n",
    "from dataset import DatasetConfig, DatasetBuilder\n",
    "import os\n",
    "from functools import partial\n",
    "import numpy as np\n",
    "import matplotlib.pyplot as plt\n",
    "import tensorflow as tf\n",
    "from collections import defaultdict, namedtuple\n",
    "from typing import Callable, Dict, List, Tuple\n",
    "from trainer import Trainer, TrainerConfig\n",
    "import jax\n",
    "%matplotlib inline"
   ]
  },
  {
   "cell_type": "code",
   "execution_count": 4,
   "id": "9c4805cf",
   "metadata": {},
   "outputs": [],
   "source": [
    "ds_config =  DatasetConfig(model_dir='../dataset/pinecone/sparse/0/',\n",
    "                           images_dir='../dataset/pinecone/images/',\n",
    "                           batch_from_single_image=True,\n",
    "                           batch_size=8)\n",
    "trainer_config = TrainerConfig(dataset_config=ds_config)"
   ]
  },
  {
   "cell_type": "code",
   "execution_count": 5,
   "id": "8c8d6c44",
   "metadata": {},
   "outputs": [],
   "source": [
    "trainer = Trainer(trainer_config)\n",
    "train_iter, val_iter = trainer.create_dataset()"
   ]
  },
  {
   "cell_type": "code",
   "execution_count": 6,
   "id": "72c9348d",
   "metadata": {},
   "outputs": [
    {
     "data": {
      "text/plain": [
       "Rays(origins=ShardedDeviceArray([[[ 0.8414927, -3.5839822,  2.186288 ],\n",
       "                     [ 0.8414927, -3.5839822,  2.186288 ],\n",
       "                     [ 0.8414927, -3.5839822,  2.186288 ],\n",
       "                     [ 0.8414927, -3.5839822,  2.186288 ],\n",
       "                     [ 0.8414927, -3.5839822,  2.186288 ],\n",
       "                     [ 0.8414927, -3.5839822,  2.186288 ],\n",
       "                     [ 0.8414927, -3.5839822,  2.186288 ],\n",
       "                     [ 0.8414927, -3.5839822,  2.186288 ]]],                   dtype=float32), directions=ShardedDeviceArray([[[ 0.08851627,  0.59432113,  0.7993322 ],\n",
       "                     [ 0.5384322 ,  0.54934055,  0.6389854 ],\n",
       "                     [-0.13287887,  0.80074024,  0.58407176],\n",
       "                     [-0.51433915,  0.68965024,  0.5097269 ],\n",
       "                     [-0.45183703,  0.6539291 ,  0.6067982 ],\n",
       "                     [ 0.56656545,  0.45696044,  0.685696  ],\n",
       "                     [ 0.1474538 ,  0.96288943,  0.22601214],\n",
       "                     [ 0.16667055,  0.9534926 ,  0.2511041 ]]],                   dtype=float32), colors=ShardedDeviceArray([[[0.8000001 , 0.8235295 , 0.8705883 ],\n",
       "                     [0.8470589 , 0.87843144, 0.89019614],\n",
       "                     [1.        , 0.9725491 , 0.909804  ],\n",
       "                     [0.5137255 , 0.5372549 , 0.38823533],\n",
       "                     [0.61960787, 0.63529414, 0.5294118 ],\n",
       "                     [0.5176471 , 0.5411765 , 0.53333336],\n",
       "                     [0.8117648 , 0.7176471 , 0.62352943],\n",
       "                     [0.38431376, 0.32156864, 0.23137257]]],                   dtype=float32))"
      ]
     },
     "execution_count": 6,
     "metadata": {},
     "output_type": "execute_result"
    }
   ],
   "source": [
    "next(train_iter)"
   ]
  },
  {
   "cell_type": "code",
   "execution_count": 5,
   "id": "f907e56b",
   "metadata": {},
   "outputs": [
    {
     "ename": "AttributeError",
     "evalue": "'tuple' object has no attribute 'origins'",
     "output_type": "error",
     "traceback": [
      "\u001b[0;31m---------------------------------------------------------------------------\u001b[0m",
      "\u001b[0;31mAttributeError\u001b[0m                            Traceback (most recent call last)",
      "\u001b[0;32m<ipython-input-5-0d17fed28362>\u001b[0m in \u001b[0;36m<module>\u001b[0;34m\u001b[0m\n\u001b[1;32m      6\u001b[0m \u001b[0;34m\u001b[0m\u001b[0m\n\u001b[1;32m      7\u001b[0m \u001b[0;32mfor\u001b[0m \u001b[0melements\u001b[0m \u001b[0;32min\u001b[0m \u001b[0mtrain_ds\u001b[0m\u001b[0;34m.\u001b[0m\u001b[0mtake\u001b[0m\u001b[0;34m(\u001b[0m\u001b[0;36m200\u001b[0m\u001b[0;34m)\u001b[0m\u001b[0;34m.\u001b[0m\u001b[0mas_numpy_iterator\u001b[0m\u001b[0;34m(\u001b[0m\u001b[0;34m)\u001b[0m\u001b[0;34m:\u001b[0m\u001b[0;34m\u001b[0m\u001b[0;34m\u001b[0m\u001b[0m\n\u001b[0;32m----> 8\u001b[0;31m     \u001b[0morigins\u001b[0m \u001b[0;34m=\u001b[0m \u001b[0melements\u001b[0m\u001b[0;34m.\u001b[0m\u001b[0morigins\u001b[0m\u001b[0;34m\u001b[0m\u001b[0;34m\u001b[0m\u001b[0m\n\u001b[0m\u001b[1;32m      9\u001b[0m     \u001b[0mdirections\u001b[0m \u001b[0;34m=\u001b[0m \u001b[0melements\u001b[0m\u001b[0;34m.\u001b[0m\u001b[0mdirections\u001b[0m\u001b[0;34m\u001b[0m\u001b[0;34m\u001b[0m\u001b[0m\n\u001b[1;32m     10\u001b[0m     \u001b[0mpixels\u001b[0m \u001b[0;34m=\u001b[0m \u001b[0melements\u001b[0m\u001b[0;34m.\u001b[0m\u001b[0mcolors\u001b[0m\u001b[0;34m\u001b[0m\u001b[0;34m\u001b[0m\u001b[0m\n",
      "\u001b[0;31mAttributeError\u001b[0m: 'tuple' object has no attribute 'origins'"
     ]
    }
   ],
   "source": [
    "lines = []\n",
    "colors = []\n",
    "\n",
    "def make_line(origin, direction, length=10):\n",
    "    return origin, origin + direction * length\n",
    "\n",
    "for elements in train_ds.take(200).as_numpy_iterator():\n",
    "    origins = elements.origins\n",
    "    directions = elements.directions\n",
    "    pixels = elements.colors\n",
    "    N = origins.shape[0]\n",
    "    for i in range(N):\n",
    "        p0, p1 = make_line(origins[i, ...], directions[i, ...])\n",
    "        lines.append(p0)\n",
    "        lines.append(p1)\n",
    "        colors.append(pixels[i, ...])"
   ]
  },
  {
   "cell_type": "code",
   "execution_count": 8,
   "id": "330f0ee0",
   "metadata": {},
   "outputs": [
    {
     "data": {
      "text/plain": [
       "ColoredRays(origins=array([[-1.3584163,  2.8891244, -0.7654388],\n",
       "       [-1.3584163,  2.8891244, -0.7654388],\n",
       "       [-1.3584163,  2.8891244, -0.7654388],\n",
       "       [-1.3584163,  2.8891244, -0.7654388],\n",
       "       [-1.3584163,  2.8891244, -0.7654388],\n",
       "       [-1.3584163,  2.8891244, -0.7654388],\n",
       "       [-1.3584163,  2.8891244, -0.7654388],\n",
       "       [-1.3584163,  2.8891244, -0.7654388]], dtype=float32), directions=array([[ 0.21775223,  0.36321905,  0.9058935 ],\n",
       "       [ 0.48083252,  0.4632607 ,  0.74443144],\n",
       "       [ 0.67416   ,  0.4551204 ,  0.5816901 ],\n",
       "       [ 0.19054098,  0.37953192,  0.9053382 ],\n",
       "       [ 0.5216486 ,  0.24016047,  0.8186518 ],\n",
       "       [ 0.5905296 , -0.33727977,  0.7331424 ],\n",
       "       [ 0.46349207,  0.44260776,  0.7676338 ],\n",
       "       [ 0.3815262 , -0.24660194,  0.89084554]], dtype=float32), colors=array([[0.69411767, 0.6745098 , 0.69803923],\n",
       "       [0.26666668, 0.30980393, 0.18431373],\n",
       "       [0.30588236, 0.3137255 , 0.3019608 ],\n",
       "       [0.654902  , 0.65882355, 0.6666667 ],\n",
       "       [0.1137255 , 0.09411766, 0.07058824],\n",
       "       [0.7490196 , 0.74509805, 0.7254902 ],\n",
       "       [0.41176474, 0.43137258, 0.40784317],\n",
       "       [0.7294118 , 0.7294118 , 0.7294118 ]], dtype=float32))"
      ]
     },
     "execution_count": 8,
     "metadata": {},
     "output_type": "execute_result"
    }
   ],
   "source": [
    "elements"
   ]
  },
  {
   "cell_type": "code",
   "execution_count": 7,
   "id": "74b7311a",
   "metadata": {},
   "outputs": [],
   "source": [
    "data = np.asarray(lines)\n",
    "np.save('lines.npy', data)\n",
    "\n",
    "colors = np.asarray(colors)\n",
    "np.save('colors.npy', colors)"
   ]
  },
  {
   "cell_type": "code",
   "execution_count": 9,
   "id": "6d4dc325",
   "metadata": {},
   "outputs": [],
   "source": [
    "from read_write_model import read_model, qvec2rotmat"
   ]
  },
  {
   "cell_type": "code",
   "execution_count": 10,
   "id": "9b3b02aa",
   "metadata": {},
   "outputs": [],
   "source": [
    "cameras_meta, images_meta, points = read_model(\"../dataset/pinecone/sparse/0/\", ext=\".bin\")"
   ]
  },
  {
   "cell_type": "code",
   "execution_count": 15,
   "id": "975dc550",
   "metadata": {},
   "outputs": [
    {
     "data": {
      "text/plain": [
       "array([3.34624313e+03, 2.01600000e+03, 1.51200000e+03, 6.98396644e-03])"
      ]
     },
     "execution_count": 15,
     "metadata": {},
     "output_type": "execute_result"
    }
   ],
   "source": [
    "cameras_meta[1].params"
   ]
  },
  {
   "cell_type": "code",
   "execution_count": null,
   "id": "d5809205",
   "metadata": {},
   "outputs": [],
   "source": []
  },
  {
   "cell_type": "code",
   "execution_count": 22,
   "id": "26d0633a",
   "metadata": {},
   "outputs": [],
   "source": [
    "R = qvec2rotmat(images_meta[1].qvec)"
   ]
  },
  {
   "cell_type": "code",
   "execution_count": 24,
   "id": "424eacfb",
   "metadata": {},
   "outputs": [],
   "source": [
    "from scipy.spatial.transform import Rotation as R"
   ]
  },
  {
   "cell_type": "code",
   "execution_count": 25,
   "id": "47fe7d4e",
   "metadata": {},
   "outputs": [],
   "source": [
    "r = R.from_quat(images_meta[1].qvec)"
   ]
  },
  {
   "cell_type": "code",
   "execution_count": 33,
   "id": "10b856de",
   "metadata": {},
   "outputs": [
    {
     "data": {
      "text/plain": [
       "array([[ 0.49530899,  0.27762036, -0.82316216],\n",
       "       [-0.22033811, -0.87642766, -0.42816547],\n",
       "       [-0.84030954,  0.3934482 , -0.37293215]])"
      ]
     },
     "execution_count": 33,
     "metadata": {},
     "output_type": "execute_result"
    }
   ],
   "source": [
    "r.as_matrix()"
   ]
  },
  {
   "cell_type": "code",
   "execution_count": 32,
   "id": "3c0bf1f4",
   "metadata": {},
   "outputs": [
    {
     "data": {
      "text/plain": [
       "array([ 2.2577188 ,  0.04711942, -1.36834409])"
      ]
     },
     "execution_count": 32,
     "metadata": {},
     "output_type": "execute_result"
    }
   ],
   "source": [
    "r.as_rotvec()"
   ]
  },
  {
   "cell_type": "code",
   "execution_count": 21,
   "id": "1e52d1fa",
   "metadata": {},
   "outputs": [
    {
     "data": {
      "text/plain": [
       "Image(id=1, qvec=array([ 0.8283521 ,  0.01728801, -0.50204246,  0.24796631]), tvec=array([2.83913768, 0.04884715, 2.37824897]), camera_id=1, name='IMG_7238.JPG', xys=array([[1814.70959473,    5.92477465],\n",
       "       [2477.25439453,    7.72096825],\n",
       "       [ 710.68273926,   11.48809433],\n",
       "       ...,\n",
       "       [2755.18774414, 1459.08056641],\n",
       "       [2755.18774414, 1459.08056641],\n",
       "       [3617.06396484, 1057.89892578]]), point3D_ids=array([-1, -1, -1, ..., -1, -1, -1]))"
      ]
     },
     "execution_count": 21,
     "metadata": {},
     "output_type": "execute_result"
    }
   ],
   "source": [
    "images_meta[1]"
   ]
  }
 ],
 "metadata": {
  "kernelspec": {
   "display_name": "Python 3",
   "language": "python",
   "name": "python3"
  },
  "language_info": {
   "codemirror_mode": {
    "name": "ipython",
    "version": 3
   },
   "file_extension": ".py",
   "mimetype": "text/x-python",
   "name": "python",
   "nbconvert_exporter": "python",
   "pygments_lexer": "ipython3",
   "version": "3.6.9"
  }
 },
 "nbformat": 4,
 "nbformat_minor": 5
}
